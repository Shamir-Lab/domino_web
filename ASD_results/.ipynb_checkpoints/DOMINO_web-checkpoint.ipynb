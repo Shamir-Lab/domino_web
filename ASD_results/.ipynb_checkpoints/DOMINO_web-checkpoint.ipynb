{
 "cells": [
  {
   "cell_type": "code",
   "execution_count": null,
   "id": "3ec57df0",
   "metadata": {},
   "outputs": [],
   "source": [
    "import os \n",
    "import itertools\n",
    "import pandas as pd\n",
    "pd.set_option('display.max_rows', None)"
   ]
  },
  {
   "cell_type": "code",
   "execution_count": null,
   "id": "50f03cf7",
   "metadata": {},
   "outputs": [],
   "source": [
    "def jaccard_similarity(list1, list2):\n",
    "    s1 = set(list1)\n",
    "    s2 = set(list2)\n",
    "    return float(len(s1.intersection(s2)) / len(s1.union(s2))) if len(s1)!=0 and len(s2)!=0 else 0"
   ]
  },
  {
   "cell_type": "code",
   "execution_count": null,
   "id": "ff69c9f1",
   "metadata": {},
   "outputs": [],
   "source": [
    "def fraction_from_min_set(list1, list2):\n",
    "    s1 = set(list1)\n",
    "    s2 = set(list2)\n",
    "    return float(len(s1.intersection(s2)) / min(len(s1),len(s2))) if len(s1)!=0 and len(s2)!=0 else 0"
   ]
  },
  {
   "cell_type": "markdown",
   "id": "0858e22c",
   "metadata": {},
   "source": [
    "#### Compare the following networks"
   ]
  },
  {
   "cell_type": "code",
   "execution_count": null,
   "id": "7158db93",
   "metadata": {},
   "outputs": [],
   "source": [
    "networks = [\"PCNet\", \"STRING\", \"DIP\", \"HuRI\"]"
   ]
  },
  {
   "cell_type": "markdown",
   "id": "05c762b6",
   "metadata": {},
   "source": [
    "#### Load modules' genes"
   ]
  },
  {
   "cell_type": "code",
   "execution_count": null,
   "id": "fb01001c",
   "metadata": {},
   "outputs": [],
   "source": [
    "modules_dict={a: [] for a in networks}\n",
    "for cur_network in networks:\n",
    "    with open(os.path.join(os.path.join(f'ASD_{cur_network}', \"modules\", \"modules.out\"))) as f:\n",
    "        for cur_line in f:\n",
    "            modules_dict[cur_network].append(cur_line.strip()[1:-1].split(\", \"))"
   ]
  },
  {
   "cell_type": "markdown",
   "id": "fd1ba37b",
   "metadata": {},
   "source": [
    "#### Calc similarity of genes between modules using Jaccard"
   ]
  },
  {
   "cell_type": "code",
   "execution_count": null,
   "id": "d91849cc",
   "metadata": {},
   "outputs": [],
   "source": [
    "df_gene_similarity=pd.DataFrame()            \n",
    "for nwk1, nwk2, in itertools.combinations(networks,2):\n",
    "    for module_nwk1, module_nwk2 in itertools.product(enumerate(modules_dict[nwk1]), enumerate(modules_dict[nwk2])):\n",
    "        df_gene_similarity.loc[f\"{nwk1}_m{module_nwk1[0]+1}_{nwk2}_m{module_nwk2[0]+1}\", \"sol1_network\"]=nwk1\n",
    "        df_gene_similarity.loc[f\"{nwk1}_m{module_nwk1[0]+1}_{nwk2}_m{module_nwk2[0]+1}\", \"sol1_module_index\"]=module_nwk1[0]+1\n",
    "        df_gene_similarity.loc[f\"{nwk1}_m{module_nwk1[0]+1}_{nwk2}_m{module_nwk2[0]+1}\", \"sol1_module_size\"]=len(module_nwk1[1])\n",
    "        df_gene_similarity.loc[f\"{nwk1}_m{module_nwk1[0]+1}_{nwk2}_m{module_nwk2[0]+1}\", \"sol2_network_name\"]=nwk2\n",
    "        df_gene_similarity.loc[f\"{nwk1}_m{module_nwk1[0]+1}_{nwk2}_m{module_nwk2[0]+1}\", \"sol2_module_index\"]=module_nwk2[0]+1\n",
    "        df_gene_similarity.loc[f\"{nwk1}_m{module_nwk1[0]+1}_{nwk2}_m{module_nwk2[0]+1}\", \"sol2_module_size\"]=len(module_nwk2[1])\n",
    "        df_gene_similarity.loc[f\"{nwk1}_m{module_nwk1[0]+1}_{nwk2}_m{module_nwk2[0]+1}\", \"jaccard_genes\"]=jaccard_similarity(module_nwk1[1], module_nwk2[1])\n",
    "        df_gene_similarity.loc[f\"{nwk1}_m{module_nwk1[0]+1}_{nwk2}_m{module_nwk2[0]+1}\", \"overlap_fraction_from_min_gene_set\"]=fraction_from_min_set(module_nwk1[1], module_nwk2[1])\n",
    "\n",
    "df_gene_similarity=df_gene_similarity.astype({'sol1_module_index':int,'sol1_module_size':int,'sol2_module_index':int,'sol2_module_size':int})\n",
    "df_gene_similarity=df_gene_similarity[(df_gene_similarity.loc[:,\"jaccard_genes\"]!=0) & (df_gene_similarity.loc[:,\"sol1_module_size\"]>3) & (df_gene_similarity.loc[:,\"sol2_module_size\"]>3)].sort_values(by='jaccard_genes', ascending=False)   "
   ]
  },
  {
   "cell_type": "markdown",
   "id": "2705fbac",
   "metadata": {},
   "source": [
    "#### Load modules' enriched GO terms "
   ]
  },
  {
   "cell_type": "code",
   "execution_count": null,
   "id": "63197cbf",
   "metadata": {},
   "outputs": [],
   "source": [
    "go_dict={a: [] for a in networks}\n",
    "for cur_network in networks:\n",
    "    with open(os.path.join(os.path.join(f'ASD_{cur_network}', \"modules\", \"modules.out\"))) as f:\n",
    "        for i, cur_line in enumerate(f):\n",
    "            df=pd.read_csv(os.path.join(f'ASD_{cur_network}', \"go\", f\"module_go_{i+1}.tsv\"), sep='\\t')\n",
    "            go_dict[cur_network].append(list(df[df.loc[:,\"qval\"]<=0.05].loc[:,\"GO term\"].values))"
   ]
  },
  {
   "cell_type": "markdown",
   "id": "c8709e13",
   "metadata": {},
   "source": [
    "#### Calc similarity of GO terms using Jaccard"
   ]
  },
  {
   "cell_type": "code",
   "execution_count": null,
   "id": "a25af32f",
   "metadata": {},
   "outputs": [],
   "source": [
    "df_GO_similarity=pd.DataFrame()            \n",
    "for nwk1, nwk2, in itertools.combinations(networks,2):\n",
    "    for module_nwk1, module_nwk2 in itertools.product(enumerate(go_dict[nwk1]), enumerate(go_dict[nwk2])):\n",
    "        df_GO_similarity.loc[f\"{nwk1}_m{module_nwk1[0]+1}_{nwk2}_m{module_nwk2[0]+1}\", \"sol1_n_go_terms\"]=len(module_nwk1[1])\n",
    "        df_GO_similarity.loc[f\"{nwk1}_m{module_nwk1[0]+1}_{nwk2}_m{module_nwk2[0]+1}\", \"sol2_n_go_terms\"]=len(module_nwk2[1])\n",
    "        df_GO_similarity.loc[f\"{nwk1}_m{module_nwk1[0]+1}_{nwk2}_m{module_nwk2[0]+1}\", \"jaccard_GO\"]=jaccard_similarity(module_nwk1[1], module_nwk2[1])\n",
    "        df_GO_similarity.loc[f\"{nwk1}_m{module_nwk1[0]+1}_{nwk2}_m{module_nwk2[0]+1}\", \"overlap_fraction_from_min_GO_set\"]=fraction_from_min_set(module_nwk1[1], module_nwk2[1])\n",
    "    \n",
    "df_GO_similarity=df_GO_similarity.astype({'sol1_n_go_terms':int,'sol2_n_go_terms':int})\n",
    "df_GO_similarity=df_GO_similarity[(df_GO_similarity.loc[:,\"jaccard_GO\"]!=0) ].sort_values(by='jaccard_GO', ascending=False)       "
   ]
  },
  {
   "cell_type": "markdown",
   "id": "5c5e6915",
   "metadata": {},
   "source": [
    "#### Summary"
   ]
  },
  {
   "cell_type": "code",
   "execution_count": null,
   "id": "665f9ee5",
   "metadata": {},
   "outputs": [],
   "source": [
    "df_summary=pd.merge(df_gene_similarity, df_GO_similarity, left_index=True, right_index=True)\n",
    "df_summary=df_summary.sort_values(by=['jaccard_genes','jaccard_GO'], ascending=False)\n",
    "display(df_summary)"
   ]
  }
 ],
 "metadata": {
  "kernelspec": {
   "display_name": "Python 3",
   "language": "python",
   "name": "python3"
  },
  "language_info": {
   "codemirror_mode": {
    "name": "ipython",
    "version": 3
   },
   "file_extension": ".py",
   "mimetype": "text/x-python",
   "name": "python",
   "nbconvert_exporter": "python",
   "pygments_lexer": "ipython3",
   "version": "3.8.8"
  }
 },
 "nbformat": 4,
 "nbformat_minor": 5
}
